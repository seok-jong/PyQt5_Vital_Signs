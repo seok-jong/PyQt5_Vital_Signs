{
 "cells": [
  {
   "cell_type": "code",
   "execution_count": 1,
   "metadata": {},
   "outputs": [
    {
     "ename": "SystemExit",
     "evalue": "0",
     "output_type": "error",
     "traceback": [
      "An exception has occurred, use %tb to see the full traceback.\n",
      "\u001b[0;31mSystemExit\u001b[0m\u001b[0;31m:\u001b[0m 0\n"
     ]
    },
    {
     "name": "stderr",
     "output_type": "stream",
     "text": [
      "/home/seokjong/anaconda3/envs/pyqt/lib/python3.8/site-packages/IPython/core/interactiveshell.py:3377: UserWarning: To exit: use 'exit', 'quit', or Ctrl-D.\n",
      "  warn(\"To exit: use 'exit', 'quit', or Ctrl-D.\", stacklevel=1)\n"
     ]
    }
   ],
   "source": [
    "## Ex 5-2. QLabel.\n",
    "\n",
    "'''\n",
    "텍스트 또는 이미지 라벨을 만들 때 사용 - 상호작용 제공 안함 \n",
    "라벨 위치의 기본값은 수평방향으로 왼쪽, 수직방향으로 가운데 \n",
    "'''\n",
    "\n",
    "\n",
    "\n",
    "import sys\n",
    "from PyQt5.QtWidgets import QApplication, QWidget, QLabel, QVBoxLayout\n",
    "from PyQt5.QtCore import Qt\n",
    "\n",
    "\n",
    "class MyApp(QWidget):\n",
    "\n",
    "    def __init__(self):\n",
    "        super().__init__()\n",
    "        self.initUI()\n",
    "\n",
    "    def initUI(self):\n",
    "        label1 = QLabel('First Label', self)\n",
    "        label1.setAlignment(Qt.AlignCenter) # 정 가운데 위치 \n",
    "\n",
    "        label2 = QLabel('Second Label', self)\n",
    "        label2.setAlignment(Qt.AlignHCenter) # 수직 방향으로 가운데 정렬(수평으로 왼쪽)\n",
    "\n",
    "        font1 = label1.font()\n",
    "        font1.setPointSize(20)\n",
    "\n",
    "        font2 = label2.font()\n",
    "        font2.setFamily('Times New Roman')\n",
    "        font2.setBold(True)\n",
    "\n",
    "        label1.setFont(font1)\n",
    "        label2.setFont(font2)\n",
    "\n",
    "        layout = QVBoxLayout()\n",
    "        layout.addWidget(label1)\n",
    "        layout.addWidget(label2)\n",
    "\n",
    "        self.setLayout(layout)\n",
    "\n",
    "        self.setWindowTitle('QLabel')\n",
    "        self.setGeometry(300, 300, 300, 200)\n",
    "        self.show()\n",
    "\n",
    "\n",
    "if __name__ == '__main__':\n",
    "    app = QApplication(sys.argv)\n",
    "    ex = MyApp()\n",
    "    sys.exit(app.exec_())"
   ]
  },
  {
   "cell_type": "code",
   "execution_count": null,
   "metadata": {},
   "outputs": [],
   "source": []
  }
 ],
 "metadata": {
  "kernelspec": {
   "display_name": "Python 3.8.13 ('pyqt')",
   "language": "python",
   "name": "python3"
  },
  "language_info": {
   "codemirror_mode": {
    "name": "ipython",
    "version": 3
   },
   "file_extension": ".py",
   "mimetype": "text/x-python",
   "name": "python",
   "nbconvert_exporter": "python",
   "pygments_lexer": "ipython3",
   "version": "3.8.13"
  },
  "orig_nbformat": 4,
  "vscode": {
   "interpreter": {
    "hash": "272aa0541cdb6675edafc44c7cfaa22242215765349b600c88210fc21c06ecfb"
   }
  }
 },
 "nbformat": 4,
 "nbformat_minor": 2
}
