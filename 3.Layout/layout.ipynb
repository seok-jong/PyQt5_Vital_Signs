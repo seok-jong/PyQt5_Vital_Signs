{
 "cells": [
  {
   "cell_type": "markdown",
   "metadata": {},
   "source": [
    "# 레이아웃\n",
    "레이아웃은 어플리케이션 창에 위젯들을 배치하는 방식으로 \n",
    "1. 절대적 배치\n",
    "2. 박스 레이아웃\n",
    "3. 그리드 레이아웃\n",
    "위 3가지 방식이 있다. "
   ]
  },
  {
   "cell_type": "code",
   "execution_count": 1,
   "metadata": {},
   "outputs": [
    {
     "ename": "SystemExit",
     "evalue": "0",
     "output_type": "error",
     "traceback": [
      "An exception has occurred, use %tb to see the full traceback.\n",
      "\u001b[0;31mSystemExit\u001b[0m\u001b[0;31m:\u001b[0m 0\n"
     ]
    },
    {
     "name": "stderr",
     "output_type": "stream",
     "text": [
      "/home/isri/anaconda3/envs/pyqt5/lib/python3.8/site-packages/IPython/core/interactiveshell.py:3377: UserWarning: To exit: use 'exit', 'quit', or Ctrl-D.\n",
      "  warn(\"To exit: use 'exit', 'quit', or Ctrl-D.\", stacklevel=1)\n"
     ]
    }
   ],
   "source": [
    "## Ex 4-1. 절대적 배치.\n",
    "# 절대적 배치는 레이아웃을 pixel단위로 손수 지정하는 것이다. \n",
    "# 따라서 여러가지 플랫폼에서 사용할 경우 화면이 비율을 반영하지 않고 \n",
    "# 표현된다.  \n",
    "\n",
    "import sys\n",
    "from PyQt5.QtWidgets import QApplication, QWidget, QLabel, QPushButton, QMainWindow\n",
    "\n",
    "\n",
    "class MyApp(QMainWindow):\n",
    "\n",
    "    def __init__(self):\n",
    "        super().__init__()\n",
    "        self.initUI()\n",
    "\n",
    "    def initUI(self):\n",
    "        label1 = QLabel('현석종', self) # label(글자)를 지정하고 \n",
    "        label1.move(20, 20) # 위치또한 지정 \n",
    "        label2 = QLabel('낄낄낄', self)\n",
    "        label2.move(20, 60)\n",
    "\n",
    "        btn1 = QPushButton('Button1', self)\n",
    "        btn1.move(80, 13)\n",
    "        btn2 = QPushButton('Button2', self)\n",
    "        btn2.move(80, 53)\n",
    "\n",
    "        self.setWindowTitle('Absolute Positioning')\n",
    "        self.setGeometry(300, 300, 400, 200)\n",
    "        self.show()\n",
    "\n",
    "\n",
    "if __name__ == '__main__':\n",
    "    app = QApplication(sys.argv)\n",
    "    ex = MyApp()\n",
    "    sys.exit(app.exec_())"
   ]
  },
  {
   "cell_type": "code",
   "execution_count": 1,
   "metadata": {},
   "outputs": [
    {
     "ename": "SystemExit",
     "evalue": "0",
     "output_type": "error",
     "traceback": [
      "An exception has occurred, use %tb to see the full traceback.\n",
      "\u001b[0;31mSystemExit\u001b[0m\u001b[0;31m:\u001b[0m 0\n"
     ]
    },
    {
     "name": "stderr",
     "output_type": "stream",
     "text": [
      "/home/isri/anaconda3/envs/pyqt5/lib/python3.8/site-packages/IPython/core/interactiveshell.py:3377: UserWarning: To exit: use 'exit', 'quit', or Ctrl-D.\n",
      "  warn(\"To exit: use 'exit', 'quit', or Ctrl-D.\", stacklevel=1)\n"
     ]
    }
   ],
   "source": [
    "## Ex 4-2. 박스 레이아웃.\n",
    "# QHBoxLayout, QVBoxLayout을 사용하여 \n",
    "# 여러 위젯을 수평, 수직으로 정렬한다. \n",
    "\n",
    "import sys\n",
    "from PyQt5.QtWidgets import QApplication, QWidget, QPushButton, QHBoxLayout, QVBoxLayout\n",
    "\n",
    "\n",
    "class MyApp(QWidget):\n",
    "\n",
    "    def __init__(self):\n",
    "        super().__init__()\n",
    "        self.initUI()\n",
    "\n",
    "    def initUI(self):\n",
    "        okButton = QPushButton('OK')\n",
    "        cancelButton = QPushButton('Cancel')\n",
    "\n",
    "        hbox = QHBoxLayout()\n",
    "        hbox.addStretch(1)\n",
    "        hbox.addWidget(okButton)\n",
    "        hbox.addWidget(cancelButton)\n",
    "        hbox.addStretch(1)\n",
    "\n",
    "        vbox = QVBoxLayout()\n",
    "        vbox.addStretch(3)\n",
    "        vbox.addLayout(hbox)\n",
    "        vbox.addStretch(1)\n",
    "\n",
    "        self.setLayout(vbox)\n",
    "\n",
    "        self.setWindowTitle('Box Layout')\n",
    "        self.setGeometry(300, 300, 300, 200)\n",
    "        self.show()\n",
    "\n",
    "\n",
    "if __name__ == '__main__':\n",
    "    app = QApplication(sys.argv)\n",
    "    ex = MyApp()\n",
    "    sys.exit(app.exec_())"
   ]
  },
  {
   "cell_type": "code",
   "execution_count": 1,
   "metadata": {},
   "outputs": [
    {
     "ename": "SystemExit",
     "evalue": "0",
     "output_type": "error",
     "traceback": [
      "An exception has occurred, use %tb to see the full traceback.\n",
      "\u001b[0;31mSystemExit\u001b[0m\u001b[0;31m:\u001b[0m 0\n"
     ]
    },
    {
     "name": "stderr",
     "output_type": "stream",
     "text": [
      "/home/isri/anaconda3/envs/pyqt5/lib/python3.8/site-packages/IPython/core/interactiveshell.py:3377: UserWarning: To exit: use 'exit', 'quit', or Ctrl-D.\n",
      "  warn(\"To exit: use 'exit', 'quit', or Ctrl-D.\", stacklevel=1)\n"
     ]
    }
   ],
   "source": [
    "## Ex 4-3. 그리드 레이아웃.\n",
    "\n",
    "import sys\n",
    "from PyQt5.QtWidgets import (QApplication, QWidget, QGridLayout, QLabel, QLineEdit, QTextEdit)\n",
    "\n",
    "\n",
    "class MyApp(QWidget):\n",
    "\n",
    "    def __init__(self):\n",
    "        super().__init__()\n",
    "        self.initUI()\n",
    "\n",
    "    def initUI(self):\n",
    "        grid = QGridLayout()\n",
    "        self.setLayout(grid)\n",
    "\n",
    "        grid.addWidget(QLabel('Title:'), 0, 0)\n",
    "        grid.addWidget(QLabel('Author:'), 1, 0)\n",
    "        grid.addWidget(QLabel('Review:'), 2, 0)\n",
    "\n",
    "        grid.addWidget(QLineEdit(), 0, 1)\n",
    "        grid.addWidget(QLineEdit(), 1, 1)\n",
    "        grid.addWidget(QTextEdit(), 2, 1)\n",
    "\n",
    "        self.setWindowTitle('QGridLayout')\n",
    "        self.setGeometry(300, 300, 300, 200)\n",
    "        self.show()\n",
    "\n",
    "\n",
    "if __name__ == '__main__':\n",
    "    app = QApplication(sys.argv)\n",
    "    ex = MyApp()\n",
    "    sys.exit(app.exec_())"
   ]
  },
  {
   "cell_type": "code",
   "execution_count": null,
   "metadata": {},
   "outputs": [],
   "source": []
  }
 ],
 "metadata": {
  "kernelspec": {
   "display_name": "Python 3.8.13 ('pyqt5': conda)",
   "language": "python",
   "name": "python3"
  },
  "language_info": {
   "codemirror_mode": {
    "name": "ipython",
    "version": 3
   },
   "file_extension": ".py",
   "mimetype": "text/x-python",
   "name": "python",
   "nbconvert_exporter": "python",
   "pygments_lexer": "ipython3",
   "version": "3.8.13"
  },
  "orig_nbformat": 4,
  "vscode": {
   "interpreter": {
    "hash": "d7da48a1ca8636727485e2c275e5d4f178892ada82a9160a9e3bcea126e77179"
   }
  }
 },
 "nbformat": 4,
 "nbformat_minor": 2
}
