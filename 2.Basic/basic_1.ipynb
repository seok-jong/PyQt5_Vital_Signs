{
 "cells": [
  {
   "cell_type": "markdown",
   "metadata": {},
   "source": [
    "# Basic "
   ]
  },
  {
   "cell_type": "markdown",
   "metadata": {},
   "source": [
    "## 1.창 띄우기 "
   ]
  },
  {
   "cell_type": "code",
   "execution_count": 1,
   "metadata": {},
   "outputs": [],
   "source": [
    "import sys\n",
    "from PyQt5.QtWidgets import QApplication, QWidget\n",
    "# 기본적인 UI 구성요소를 제공하는 위젯(QtWidgets)을 불러온다. "
   ]
  },
  {
   "cell_type": "code",
   "execution_count": 2,
   "metadata": {},
   "outputs": [
    {
     "ename": "SystemExit",
     "evalue": "0",
     "output_type": "error",
     "traceback": [
      "An exception has occurred, use %tb to see the full traceback.\n",
      "\u001b[0;31mSystemExit\u001b[0m\u001b[0;31m:\u001b[0m 0\n"
     ]
    },
    {
     "name": "stderr",
     "output_type": "stream",
     "text": [
      "/home/seokjong/anaconda3/envs/pyqt/lib/python3.8/site-packages/IPython/core/interactiveshell.py:3377: UserWarning: To exit: use 'exit', 'quit', or Ctrl-D.\n",
      "  warn(\"To exit: use 'exit', 'quit', or Ctrl-D.\", stacklevel=1)\n"
     ]
    }
   ],
   "source": [
    "class MyApp(QWidget):\n",
    "\n",
    "    def __init__(self):\n",
    "        super().__init__()\n",
    "        self.initUI()\n",
    "\n",
    "    def initUI(self):\n",
    "        self.setWindowTitle('My First Application') # 타이틀바에 나타나는 창의 제목 \n",
    "        self.move(1000, 300) # 위젯이 등장하는 위치(좌측 상단 = 0,0)\n",
    "        self.resize(400, 200) # 등장하는 위젯의 크기 \n",
    "        self.show() # 위젯을 스크린에 보여준다.\n",
    "\n",
    "\n",
    "if __name__ == '__main__': # 코드가 모듈(import되어)로 실행되는지 직접 실행되는지 확인 (여기서는 직접 실행될 경우)\n",
    "   app = QApplication(sys.argv)\n",
    "   ex = MyApp()\n",
    "   sys.exit(app.exec_())"
   ]
  },
  {
   "cell_type": "markdown",
   "metadata": {},
   "source": [
    "## 2.아이콘 넣기"
   ]
  },
  {
   "cell_type": "code",
   "execution_count": 1,
   "metadata": {},
   "outputs": [],
   "source": [
    "import sys\n",
    "from PyQt5.QtWidgets import QApplication, QWidget\n",
    "from PyQt5.QtGui import QIcon"
   ]
  },
  {
   "cell_type": "code",
   "execution_count": 2,
   "metadata": {},
   "outputs": [
    {
     "ename": "SystemExit",
     "evalue": "0",
     "output_type": "error",
     "traceback": [
      "An exception has occurred, use %tb to see the full traceback.\n",
      "\u001b[0;31mSystemExit\u001b[0m\u001b[0;31m:\u001b[0m 0\n"
     ]
    },
    {
     "name": "stderr",
     "output_type": "stream",
     "text": [
      "/home/seokjong/anaconda3/envs/pyqt/lib/python3.8/site-packages/IPython/core/interactiveshell.py:3377: UserWarning: To exit: use 'exit', 'quit', or Ctrl-D.\n",
      "  warn(\"To exit: use 'exit', 'quit', or Ctrl-D.\", stacklevel=1)\n"
     ]
    }
   ],
   "source": [
    "class MyApp(QWidget):\n",
    "\n",
    "    def __init__(self):\n",
    "        super().__init__()\n",
    "        self.initUI()\n",
    "\n",
    "    def initUI(self):\n",
    "        self.setWindowTitle('Icon') \n",
    "        self.setWindowIcon(QIcon('web.png'))\n",
    "        self.setGeometry(300,300,300,200)\n",
    "        # self.move(1000, 300) \n",
    "        # self.resize(400, 200) \n",
    "        self.show() # 위젯을 스크린에 보여준다.\n",
    "\n",
    "if __name__ == '__main__':\n",
    "   app = QApplication(sys.argv)\n",
    "   ex = MyApp()\n",
    "   sys.exit(app.exec_())"
   ]
  },
  {
   "cell_type": "markdown",
   "metadata": {},
   "source": [
    "## 3.창 닫기 \n",
    "단순히 x표시를 눌러 창을 닫는것이 아닌 프로그래밍으로 창을 닫는 방법을 이용 "
   ]
  },
  {
   "cell_type": "code",
   "execution_count": 1,
   "metadata": {},
   "outputs": [
    {
     "name": "stdout",
     "output_type": "stream",
     "text": [
      "0\n"
     ]
    }
   ],
   "source": [
    "\n",
    "import sys\n",
    "from PyQt5.QtWidgets import QApplication, QWidget, QPushButton\n",
    "from PyQt5.QtCore import QCoreApplication\n",
    "\n",
    "class MyApp(QWidget):\n",
    "    \n",
    "    def __init__(self):\n",
    "        super().__init__()\n",
    "        self.initUI()\n",
    "        \n",
    "    def initUI(self):\n",
    "        btn = QPushButton('Quit',self) # QPush버튼 생성 ,(버튼에 생성될 텍스트, 생성될 부모  위젯)\n",
    "        btn.move(50,50) # 위치 조정 \n",
    "        btn.clicked.connect(QCoreApplication.instance().quit) \n",
    "        # 버튼이 클릭되면(clicked) 현재 상태(instance())를 quit에 연결한다.\n",
    "        \n",
    "        \n",
    "        self.setWindowTitle('Quit Button')\n",
    "        self.setGeometry(300,300,300,200)\n",
    "        self.show()\n",
    "        \n",
    "        \n",
    "        \n",
    "if __name__ == '__main__':\n",
    "    app = QApplication(sys.argv)\n",
    "    ex = MyApp()\n",
    "    sys.exit(app.exec_())\n",
    "    \n",
    "    "
   ]
  },
  {
   "cell_type": "markdown",
   "metadata": {},
   "source": [
    "## 4.툴팁 나타내기\n",
    "\n",
    "tool tip은 버튼위에 마우스를 올려놓으면 나타나는 도움말이다. \n"
   ]
  },
  {
   "cell_type": "code",
   "execution_count": 1,
   "metadata": {},
   "outputs": [
    {
     "ename": "SystemExit",
     "evalue": "0",
     "output_type": "error",
     "traceback": [
      "An exception has occurred, use %tb to see the full traceback.\n",
      "\u001b[0;31mSystemExit\u001b[0m\u001b[0;31m:\u001b[0m 0\n"
     ]
    },
    {
     "name": "stderr",
     "output_type": "stream",
     "text": [
      "/home/seokjong/anaconda3/envs/pyqt/lib/python3.8/site-packages/IPython/core/interactiveshell.py:3377: UserWarning: To exit: use 'exit', 'quit', or Ctrl-D.\n",
      "  warn(\"To exit: use 'exit', 'quit', or Ctrl-D.\", stacklevel=1)\n"
     ]
    }
   ],
   "source": [
    "\n",
    "import sys\n",
    "from PyQt5.QtWidgets import QApplication, QWidget, QPushButton, QToolTip\n",
    "from PyQt5.QtGui import QFont\n",
    "\n",
    "\n",
    "class MyApp(QWidget):\n",
    "\n",
    "    def __init__(self):\n",
    "        super().__init__()\n",
    "        self.initUI()\n",
    "\n",
    "    def initUI(self):\n",
    "        QToolTip.setFont(QFont('SansSerif', 10)) # 툴팁에 대한 폰트와 크기 설정 \n",
    "        self.setToolTip('This is a <b>QWidget</b> widget') # 창에 대한 툴팁 생성 \n",
    "\n",
    "        btn = QPushButton('Button', self) # 버튼 생성 \n",
    "        btn.setToolTip('This is a <b>QPushButton</b> widget') # 버튼에 대한 툴팁 생성 \n",
    "        btn.move(50, 50) \n",
    "        btn.resize(btn.sizeHint()) # sizeHint()는 버튼이 적절한 크기로 설정하도록 도와준다. \n",
    "\n",
    "        self.setWindowTitle('Tooltips')\n",
    "        self.setGeometry(300, 300, 300, 200)\n",
    "        self.show()\n",
    "\n",
    "\n",
    "if __name__ == '__main__':\n",
    "    app = QApplication(sys.argv)\n",
    "    ex = MyApp()\n",
    "    sys.exit(app.exec_())"
   ]
  },
  {
   "cell_type": "markdown",
   "metadata": {},
   "source": [
    "## 5.상태바 만들기 \n",
    "\n",
    "![status](mainwindowlayout.png)\n",
    "\n",
    "메인창은 고유의 레이아웃을 가지고 있다.   \n",
    "여기서 status bar를 생성해 본다.   \n",
    "status bar는 어플리케이션의 상태를 알려주기 위한 위젯이다.   "
   ]
  },
  {
   "cell_type": "code",
   "execution_count": 1,
   "metadata": {},
   "outputs": [
    {
     "ename": "SystemExit",
     "evalue": "0",
     "output_type": "error",
     "traceback": [
      "An exception has occurred, use %tb to see the full traceback.\n",
      "\u001b[0;31mSystemExit\u001b[0m\u001b[0;31m:\u001b[0m 0\n"
     ]
    },
    {
     "name": "stderr",
     "output_type": "stream",
     "text": [
      "/home/seokjong/anaconda3/envs/pyqt/lib/python3.8/site-packages/IPython/core/interactiveshell.py:3377: UserWarning: To exit: use 'exit', 'quit', or Ctrl-D.\n",
      "  warn(\"To exit: use 'exit', 'quit', or Ctrl-D.\", stacklevel=1)\n"
     ]
    }
   ],
   "source": [
    "\n",
    "import sys\n",
    "from PyQt5.QtWidgets import QApplication, QMainWindow\n",
    "\n",
    "\n",
    "class MyApp(QMainWindow):\n",
    "\n",
    "    def __init__(self):\n",
    "        super().__init__()\n",
    "        self.initUI()\n",
    "\n",
    "    def initUI(self):\n",
    "        self.statusBar().showMessage('Ready')\n",
    "\n",
    "        self.setWindowTitle('Statusbar')\n",
    "        self.setGeometry(300, 300, 300, 200)\n",
    "        self.show()\n",
    "\n",
    "\n",
    "if __name__ == '__main__':\n",
    "    app = QApplication(sys.argv)\n",
    "    ex = MyApp()\n",
    "    sys.exit(app.exec_())"
   ]
  },
  {
   "cell_type": "code",
   "execution_count": null,
   "metadata": {},
   "outputs": [],
   "source": []
  }
 ],
 "metadata": {
  "interpreter": {
   "hash": "272aa0541cdb6675edafc44c7cfaa22242215765349b600c88210fc21c06ecfb"
  },
  "kernelspec": {
   "display_name": "Python 3.8.13 ('pyqt')",
   "language": "python",
   "name": "python3"
  },
  "language_info": {
   "codemirror_mode": {
    "name": "ipython",
    "version": 3
   },
   "file_extension": ".py",
   "mimetype": "text/x-python",
   "name": "python",
   "nbconvert_exporter": "python",
   "pygments_lexer": "ipython3",
   "version": "3.8.13"
  },
  "orig_nbformat": 4
 },
 "nbformat": 4,
 "nbformat_minor": 2
}
